{
 "cells": [
  {
   "cell_type": "code",
   "execution_count": 11,
   "id": "fce41a2d",
   "metadata": {},
   "outputs": [],
   "source": [
    "#import packages\n",
    "import xarray as xr\n",
    "import fsspec\n",
    "from stactools.ecmwf_forecast import stac"
   ]
  },
  {
   "cell_type": "code",
   "execution_count": 12,
   "id": "e3097b60",
   "metadata": {},
   "outputs": [
    {
     "name": "stderr",
     "output_type": "stream",
     "text": [
      "/anaconda/envs/py38_default/lib/python3.8/site-packages/kerchunk/combine.py:269: UserWarning: Concatenated coordinate 'valid_time' contains less than expectednumber of values across the datasets: [1642723200]\n",
      "  warnings.warn(\n",
      "/tmp/ipykernel_77638/3672368206.py:4: RuntimeWarning: Failed to open Zarr store with consolidated metadata, but successfully read with non-consolidated metadata. This is typically much slower for opening a dataset. To silence this warning, consider:\n",
      "1. Consolidating metadata in this existing store with zarr.consolidate_metadata().\n",
      "2. Explicitly setting consolidated=False, to avoid trying to read consolidate metadata, or\n",
      "3. Explicitly setting consolidated=True, to raise an error in this case instead of falling back to try reading non-consolidated metadata.\n",
      "  ds = xr.open_dataset(m, engine='zarr')\n"
     ]
    }
   ],
   "source": [
    "#filepath should point to local grib2 file\n",
    "item = stac.create_item([filepath])\n",
    "m = fsspec.get_mapper('reference://', fo=item.properties['kerchunk_indices'], remote_protocol='file')\n",
    "ds = xr.open_dataset(m, engine='zarr')"
   ]
  }
 ],
 "metadata": {
  "kernelspec": {
   "display_name": "Python 3 (ipykernel)",
   "language": "python",
   "name": "python3"
  },
  "language_info": {
   "codemirror_mode": {
    "name": "ipython",
    "version": 3
   },
   "file_extension": ".py",
   "mimetype": "text/x-python",
   "name": "python",
   "nbconvert_exporter": "python",
   "pygments_lexer": "ipython3",
   "version": "3.8.16"
  }
 },
 "nbformat": 4,
 "nbformat_minor": 5
}
