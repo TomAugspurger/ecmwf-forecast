{
 "cells": [
  {
   "cell_type": "markdown",
   "id": "1613d1ab",
   "metadata": {},
   "source": [
    "### Import packages"
   ]
  },
  {
   "cell_type": "code",
   "execution_count": null,
   "id": "2c69928e",
   "metadata": {},
   "outputs": [],
   "source": [
    "import getpass\n",
    "from azure.storage.blob import BlobServiceClient\n",
    "import xarray as xr\n",
    "import os\n",
    "import fsspec\n",
    "from stactools.ecmwf_forecast import stac"
   ]
  },
  {
   "cell_type": "markdown",
   "id": "619a606e",
   "metadata": {},
   "source": [
    "### Install locally"
   ]
  },
  {
   "cell_type": "code",
   "execution_count": null,
   "id": "ae692333",
   "metadata": {},
   "outputs": [],
   "source": [
    "pip install -e ./ecmwf-forecast"
   ]
  },
  {
   "cell_type": "markdown",
   "id": "ebc59b55",
   "metadata": {},
   "source": [
    "### Set up storage account connection string"
   ]
  },
  {
   "cell_type": "code",
   "execution_count": null,
   "id": "aa9047f3",
   "metadata": {},
   "outputs": [],
   "source": [
    "connection_string =  getpass.getpass('<storage-account-connection-string>')\n",
    "container = 'ecmwf-new'\n",
    "account_name = 'lawistorage'\n",
    "blob_service_client = BlobServiceClient.from_connection_string(connection_string)\n",
    "blob_container_client = blob_service_client.get_container_client(container)"
   ]
  },
  {
   "cell_type": "markdown",
   "id": "e1a5019a",
   "metadata": {},
   "source": [
    "### Create STAC item"
   ]
  },
  {
   "cell_type": "code",
   "execution_count": null,
   "id": "e47a0a8d",
   "metadata": {},
   "outputs": [],
   "source": [
    "filepath = 'https://lawistorage.blob.core.windows.net/ecmwf-new/20220121/00z/0p4-beta/wave/20220121000000-0h-wave-fc.grib2'\n",
    "item = stac.create_item([filepath])"
   ]
  },
  {
   "cell_type": "markdown",
   "id": "4859da80",
   "metadata": {},
   "source": [
    "### Load dataset via kerchunk indices"
   ]
  },
  {
   "cell_type": "code",
   "execution_count": null,
   "id": "bb7ec1ee",
   "metadata": {},
   "outputs": [],
   "source": [
    "%%time\n",
    "\n",
    "m = fsspec.get_mapper('reference://', fo=item.properties['kerchunk_indices'], remote_options={\"connection_string\": connection_string})\n",
    "ds = xr.open_dataset(m, engine='zarr')\n",
    "ds['swh'].mean()"
   ]
  },
  {
   "cell_type": "markdown",
   "id": "a72a8c63",
   "metadata": {},
   "source": [
    "### Load dataset via original .GRIB2 file"
   ]
  },
  {
   "cell_type": "code",
   "execution_count": null,
   "id": "4aaa7129",
   "metadata": {},
   "outputs": [],
   "source": [
    "%%time\n",
    "\n",
    "import urllib.request\n",
    "import xarray as xr\n",
    "\n",
    "url = 'https://ai4edataeuwest.blob.core.windows.net/ecmwf/20220121/00z/0p4-beta/wave/20220121000000-0h-wave-fc.grib2'\n",
    "filename, _ = urllib.request.urlretrieve(url)\n",
    "\n",
    "ds = xr.open_dataset(filename, engine=\"cfgrib\")\n",
    "ds['swh'].mean()"
   ]
  },
  {
   "cell_type": "code",
   "execution_count": null,
   "id": "f76a934a",
   "metadata": {},
   "outputs": [],
   "source": [
    "2.63/0.099"
   ]
  }
 ],
 "metadata": {
  "kernelspec": {
   "display_name": "Python 3 (ipykernel)",
   "language": "python",
   "name": "python3"
  },
  "language_info": {
   "codemirror_mode": {
    "name": "ipython",
    "version": 3
   },
   "file_extension": ".py",
   "mimetype": "text/x-python",
   "name": "python",
   "nbconvert_exporter": "python",
   "pygments_lexer": "ipython3",
   "version": "3.8.16"
  }
 },
 "nbformat": 4,
 "nbformat_minor": 5
}
